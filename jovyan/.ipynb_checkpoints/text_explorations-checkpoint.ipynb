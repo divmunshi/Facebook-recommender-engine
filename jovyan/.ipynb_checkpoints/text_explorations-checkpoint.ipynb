{
 "cells": [
  {
   "cell_type": "markdown",
   "id": "3edb92e5-057a-495e-a4ad-e31b6e784358",
   "metadata": {},
   "source": [
    "# File for looking at text content"
   ]
  },
  {
   "cell_type": "markdown",
   "id": "db087679-711d-4a8c-8549-9dd2748f81a2",
   "metadata": {
    "tags": []
   },
   "source": [
    "## Import Libraries:"
   ]
  },
  {
   "cell_type": "code",
   "execution_count": 1,
   "id": "c89dd514-c864-4aab-a25b-3b8a5f244161",
   "metadata": {
    "tags": []
   },
   "outputs": [],
   "source": [
    "import sklearn as sk\n",
    "import random\n",
    "import re\n",
    "from sklearn.feature_extraction.text import TfidfVectorizer, CountVectorizer\n",
    "from sklearn.decomposition import NMF, LatentDirichletAllocation, TruncatedSVD\n",
    "import numpy as np\n",
    "from text_content import data\n",
    "from stop_words import sw_en\n",
    "import pandas as pd"
   ]
  },
  {
   "cell_type": "markdown",
   "id": "00b82aef-892e-4fcd-a66e-8fa825c94d3d",
   "metadata": {
    "tags": []
   },
   "source": [
    "### Get English Content"
   ]
  },
  {
   "cell_type": "code",
   "execution_count": 2,
   "id": "e0e17608-7623-41c8-8fa6-80ac045e764c",
   "metadata": {
    "tags": []
   },
   "outputs": [],
   "source": [
    "en_list = [item['content'] for item in data if item.get('lang') == 'en']\n",
    "random.shuffle(en_list)"
   ]
  },
  {
   "cell_type": "markdown",
   "id": "fea39976-4e77-491e-9825-8ff445e09a33",
   "metadata": {
    "tags": []
   },
   "source": [
    "### Remove Stop Words"
   ]
  },
  {
   "cell_type": "code",
   "execution_count": 3,
   "id": "ebd83442-5180-476f-a864-eca34e8b40c6",
   "metadata": {
    "tags": []
   },
   "outputs": [],
   "source": [
    "def remove_sw(text):\n",
    "    new_list = []\n",
    "    words = [word for word in re.split(r\" |'\", text) if word.lower() not in sw_en]\n",
    "    new_text = \" \".join(words)\n",
    "    return new_text\n",
    "    # new_list.append(new_text)"
   ]
  },
  {
   "cell_type": "code",
   "execution_count": 4,
   "id": "bef388e1-bd23-4954-9758-bab155ee0816",
   "metadata": {
    "tags": []
   },
   "outputs": [],
   "source": [
    "en_list_nosw = [remove_sw(item) for item in en_list]\n"
   ]
  },
  {
   "cell_type": "code",
   "execution_count": 5,
   "id": "24330a7b-fcca-4a10-bad5-da45e0a955bb",
   "metadata": {
    "tags": []
   },
   "outputs": [
    {
     "name": "stdout",
     "output_type": "stream",
     "text": [
      "The list in english has 3151 entries \n",
      "\n",
      "time, small town countryside, lived old man named Jack. Jack retired mechanic spent time tinkering antique car bicycle garage.\n",
      "\n",
      "One day, Jack decided ride bike local farmer s market buy fresh apples. hopped trusty bicycle pedaled road. riding, noticed strange. bike felt different, like moving own.\n",
      "\n",
      "Suddenly, wheel bike lifted ground transformed set wings. Jack startled excited took sky. landed gracefully nearby apple orchard, noticed unusual apple tree.\n",
      "\n",
      "The tree like d seen before. branches metal, gears cogs instead leaves. Jack intrigued decided closer look. approached tree, felt sudden jolt teleported futuristic world filled flying automobiles.\n",
      "\n",
      "To surprise, saw vehicles powered mechanical apples seen tree. Jack amazed quickly realized accidentally stumbled revolutionary new technology change world forever.\n",
      "\n",
      "From day on, Jack known inventor mechanical apple, bicycle forever transformed flying machine. continued tinker explore, pushing boundaries possible, world again.\n"
     ]
    }
   ],
   "source": [
    "print(f\"The list in english has {len(en_list_nosw)} entries \\n\" )\n",
    "print(en_list_nosw[3000])"
   ]
  },
  {
   "cell_type": "markdown",
   "id": "c3ddb198-9229-4ac7-ac91-29032a025023",
   "metadata": {
    "tags": []
   },
   "source": [
    "### Apply TF ID"
   ]
  },
  {
   "cell_type": "code",
   "execution_count": 6,
   "id": "af2b96be-08b2-4ad3-9ed0-19e848bd2989",
   "metadata": {
    "tags": []
   },
   "outputs": [
    {
     "name": "stdout",
     "output_type": "stream",
     "text": [
      "              TF-IDF\n",
      "nature      0.313603\n",
      "grapes      0.283487\n",
      "mushrooms   0.270495\n",
      "birds       0.268880\n",
      "appreciate  0.200706\n",
      "...              ...\n",
      "fruit       0.038307\n",
      "next        0.038121\n",
      "look        0.038028\n",
      "looking     0.036817\n",
      "provide     0.036736\n",
      "\n",
      "[100 rows x 1 columns]\n"
     ]
    }
   ],
   "source": [
    "tfIdfVectorizer=TfidfVectorizer(use_idf=True)\n",
    "tfIdf = tfIdfVectorizer.fit_transform(en_list_nosw)\n",
    "\n",
    "df = pd.DataFrame(tfIdf[0].T.todense(), index=tfIdfVectorizer.get_feature_names_out(), columns=[\"TF-IDF\"])\n",
    "df = df.sort_values('TF-IDF', ascending=False)\n",
    "print (df.head(100))\n"
   ]
  },
  {
   "cell_type": "code",
   "execution_count": 7,
   "id": "34a8b452-7950-4f02-b463-fab5f9663d2f",
   "metadata": {
    "tags": []
   },
   "outputs": [
    {
     "name": "stdout",
     "output_type": "stream",
     "text": [
      "[array(['discover', 'outside', 'aspect', 'interested', 'conclusion', 'in',\n",
      "       'fungi', 'amazing', 'camera', 'forget', 'don', 'ecosystem',\n",
      "       'contribute', 'medicine', 'cooking', 'uses', 'types', 'trail',\n",
      "       'forest', 'guided', 'overlooked', 'mysterious', 'finally',\n",
      "       'wonders', 'winged', 'beauty', 'capture', 'sketchpad', 'creative',\n",
      "       'species', 'identify', 'help', 'guidebook', 'binoculars', 'pair',\n",
      "       'bring', 'reserve', 'park', 'nearby', 'visit', 'backyard',\n",
      "       'birdwatching', 'habitat', 'natural', 'observe', 'colors', 'sizes',\n",
      "       'shapes', 'come', 'creatures', 'fascinating', 'talk', 'let',\n",
      "       'next', 'home', 'grapevines', 'growing', 'adventurous', 'feeling',\n",
      "       'stomping', 'grape', 'hand', 'try', 'varieties', 'taste',\n",
      "       'winemaking', 'art', 'learn', 'winery', 'local', 'visiting',\n",
      "       'tour', 'vineyard', 'taking', 'consider', 'truly', 'vine', 'fresh',\n",
      "       'jam', 'wine', 'enjoyed', 'fruit', 'versatile', 'up', 'first',\n",
      "       'gifts', 'wonderful', 'ideas', 'share', 'look', 'closer', 'll',\n",
      "       'life', 'forms', 'different', 'relationships', 'explore', 'plenty',\n",
      "       'you', 'world', 'appreciate', 'ways', 'new', 'looking',\n",
      "       'enthusiast', 'nature', 'whether', 'mushrooms', 'birds', 'grapes',\n",
      "       'tutorial', 'inspiring', 'short', 'provide', 'happy', 'sure'],\n",
      "      dtype='<U17'), array(['worked', 'possible', 'knew', 'forward', 'winner', 'official',\n",
      "       'laughing', 'burst', 'they', 'stuck', 'sight', 'absurd', 'arrived',\n",
      "       'others', 'catch', 'managed', 'it', 'landed', 'sky', 'falling',\n",
      "       'came', 'crossed', 'as', 'finish', 'way', 'zigzagged', 'direction',\n",
      "       'able', 'advantage', 'lead', 'found', 'suddenly', 'rear',\n",
      "       'bringing', 'air', 'rock', 'second', 'tree', 'straight', 'headed',\n",
      "       'along', 'bouncing', 'meanwhile', 'road', 'flying', 'went', 'bump',\n",
      "       'hit', 'struck', 'disaster', 'win', 'going', 'like', 'just',\n",
      "       'quickly', 'moving', 'designed', 'weren', 'legs', 'struggling',\n",
      "       'ahead', 'sped', 'could', 'fast', 'bounced', 'began', 'line',\n",
      "       'starting', 'lined', 'the', 'before', 'nervous', 'bit', 'wheels',\n",
      "       'smooth', 'gears', 'multiple', 'chances', 'good', 'pretty',\n",
      "       'players', 'best', 'thrown', 'all', 'confident', 'fastest', 'race',\n",
      "       'decided', 'day', 'one', 'together', 'hanging', 'loved', 'years',\n",
      "       'friends', 'chair', 'bicycle', 'ball', 'rugby', 'time', 'feeling',\n",
      "       'world'], dtype='<U17'), array(['fun', 'creature', 'sea', 'sports', 'bewildered', 'circles',\n",
      "       'days', 'spending', 'on', 'from', 'safety', 'away', 'dart',\n",
      "       'giving', 'backwards', 'feline', 'stunned', 'head', 'right',\n",
      "       'slammed', 'flew', 'fight', 'wasn', 'curiosity', 'hungry',\n",
      "       'eyeing', 'appeared', 'cat', 'mischievous', 'this', 'pondered',\n",
      "       'water', 'why', 'thought', 'strange', 'how', 'soccer', 'lost',\n",
      "       'stumbled', 'lake', 'swimming', 'fish', 'afternoon', 'sunny',\n",
      "       'knew', 'as', 'suddenly', 'going', 'best', 'together', 'friends',\n",
      "       'ball', 'time'], dtype='<U17'), array(['brought', 'turns', 'twists', 'unexpected', 'strangers',\n",
      "       'kindness', 'marveled', 'adventure', 'survived', 'relieved',\n",
      "       'countryside', 'picturesque', 'rode', 'port', 'nearest', 'join',\n",
      "       'grateful', 'invited', 'charity', 'members', 'introduced',\n",
      "       'approaching', 'cyclists', 'team', 'noticed', 'disembarked',\n",
      "       'surroundings', 'wonder', 'looked', 'relief', 'sigh', 'breathed',\n",
      "       'fellow', 'deck', 'safely', 'rest', 'expertise', 'view', 'ship',\n",
      "       'passing', 'incredibly', 'miracle', 'prayed', 'ocean', 'descended',\n",
      "       'landing', 'emergency', 'failure', 'engine', 'experiencing',\n",
      "       'announced', 'pilot', 'panic', 'passengers', 'violently', 'shake',\n",
      "       'started', 'contemplation', 'window', 'gazed', 'soared',\n",
      "       'aircraft', 'city', 'york', 'bound', 'plane', 'boarded',\n",
      "       'businessman', 'autumn', 'calm', 'sky', 'came', 'as', 'way',\n",
      "       'suddenly', 'began', 'the', 'race', 'day', 'friends', 'beauty',\n",
      "       'bring', 'life', 'new'], dtype='<U17'), array(['dreams', 'achieving', 'pushing', 'motivation', 'meanings', 'use',\n",
      "       'play', 'role', 'moment', 'us', 'inspiration', 'farmer', 'goals',\n",
      "       'achieve', 'strive', 'remember', 'important', 'aspects',\n",
      "       'represent', 'common', 'seemingly', 'so', 'ease', 'navigates',\n",
      "       'flight', 'takes', 'reach', 'obstacles', 'overcome', 'reminds',\n",
      "       'heights', 'soar', 'ability', 'freedom', 'and', 'long', 'thoughts',\n",
      "       'gather', 'place', 'lives', 'daily', 'find', 'support', 'comfort',\n",
      "       'furniture', 'piece', 'mundane', 'simple', 'harvest', 'grow',\n",
      "       'farmers', 'dedication', 'work', 'hard', 'represents', 'people',\n",
      "       'millions', 'sustenance', 'providing', 'centuries', 'cultivated',\n",
      "       'crop', 'them', 'connection', 'beautiful', 'actually', 'glance',\n",
      "       'objects', 'unrelated', 'bird', 'corn', 'rest', 'forward', 'it',\n",
      "       'like', 'day', 'chair', 'finally', 'hand', 'different', 'world',\n",
      "       'appreciate', 'new', 'tutorial', 'inspiring', 'short', 'sure'],\n",
      "      dtype='<U17'), array(['me', 'planned', 'horrors', 'trapped', 'ear', 'threats', 'twisted',\n",
      "       'madness', 'gleaming', 'moon', 'glow', 'faint', 'illuminated',\n",
      "       'face', 'captor', 'saw', 'darkness', 'adjusted', 'eyes', 'tighter',\n",
      "       'held', 'attacker', 'free', 'break', 'struggled', 'terror',\n",
      "       'screamed', 'building', 'abandoned', 'dragging', 'bike', 'yanking',\n",
      "       'arm', 'grabbed', 'shot', 'fear', 'paralyzed', 'froze', 'chest',\n",
      "       'pounded', 'heart', 'blackness', 'disappearing', 'shadows',\n",
      "       'eerie', 'casting', 'lights', 'overhead', 'thundered', 'airplane',\n",
      "       'low', 'split', 'roar', 'deafening', 'watched', 'couldn',\n",
      "       'pavement', 'rustled', 'leaves', 'dead', 'ominously', 'whispered',\n",
      "       'wind', 'stomach', 'settle', 'unease', 'sense', 'creeping', 'felt',\n",
      "       'street', 'deserted', 'dark', 'pedaled', 'pilot', 'shake', 'plane',\n",
      "       'knew', 'as', 'way', 'suddenly', 'air', 'road', 'flying',\n",
      "       'bicycle', 'feeling', 'hand'], dtype='<U17'), array(['uplift', 'benefit', 'helpful', 'positive', 'creating', 'focus',\n",
      "       'suggest', 'instead', 'words', 'impact', 'mindful', 'responsible',\n",
      "       'individuals', 'induce', 'intended', 'content', 'generate',\n",
      "       'programming', 'model', 'language', 'ai', 'fear', 'important',\n",
      "       'them', 'others', 'come'], dtype='<U17'), array(['else', 'assist', 'needs', 'user', 'relevant', 'responses',\n",
      "       'informative', 'guitar', 'broccoli', 'topics', 'random', 'sad',\n",
      "       'write', 'goes', 'sorry', 'helpful', 'programming', 'model',\n",
      "       'language', 'ai', 'important', 'unrelated', 'cat', 'tutorial',\n",
      "       'provide'], dtype='<U17'), array(['little', 'chuckled', 'hope', 'unconventional', 'hilarious',\n",
      "       'folks', 'playing', 'seriously', 'dunk', 'backboard', 'perch',\n",
      "       'maybe', 'pass', 'strategically', 'land', 'plan', 'game',\n",
      "       'strategize', 'believe', 'high', 'jump', 'trickier', 'shoot',\n",
      "       'out', 'figure', 'hands', 'tricky', 'dribble', 'basics', 'teach',\n",
      "       'funny', 'things', 'switch', 'teammates', 'humans', 'typically',\n",
      "       'now', 'choose', 'step', 'basketball', 'ready', 'there', 'hello',\n",
      "       'shot', 'play', 'remember', 'them', 'bird', 'members', 'team',\n",
      "       'started', 'fun', 'why', 'fish', 'it', 'going', 'quickly', 'bit',\n",
      "       'all', 'ball', 'time', 'finally', 'creative', 'come', 'let',\n",
      "       'learn', 'enjoyed', 'up', 'first', 'll', 'tutorial', 'happy',\n",
      "       'sure'], dtype='<U17'), array(['unlock', 'anywhere', 'wild', 'run', 'imagination', 'top',\n",
      "       'slices', 'bowl', 'smoothie', 'design', 'court', 'painting',\n",
      "       'create', 'with', 'kind', 'combine', 'object', 'talked', 've',\n",
      "       'care', 'self', 'color', 'yellow', 'creamy', 'sweet', 'habits',\n",
      "       'sustain', 'vitality', 'nutrition', 'vitamins', 'potassium',\n",
      "       'healthy', 'delicious', 'bananas', 'determination', 'feel',\n",
      "       'strings', 'hitting', 'accuracy', 'target', 'strength', 'movement',\n",
      "       'agility', 'precision', 'requires', 'sport', 'rackets', 'is',\n",
      "       'feathers', 'bright', 'chirping', 'sound', 'mind', 'think',\n",
      "       'problems', 'lightness', 'unencumbered', 'fly', 'side', 'inspire',\n",
      "       'completely', 'have', 'start', 'perfect', 'not', 'unique', 'order',\n",
      "       'combining', 'endless', 'possibilities', 'creativity', 'comes',\n",
      "       'when', 'banana', 'racket', 'tennis', 'maybe', 'high', 'things',\n",
      "       'now', 'focus', 'free', 'sense', 'use', 'play', 'inspiration',\n",
      "       'remember', 'important', 'represent', 'seemingly', 'soar',\n",
      "       'ability', 'freedom', 'work', 'hard', 'them', 'beautiful',\n",
      "       'actually', 'objects', 'unrelated', 'bird', 'thought', 'sky',\n",
      "       'flying', 'hit', 'ball', 'time', 'amazing', 'finally', 'creative',\n",
      "       'colors', 'come', 'creatures', 'talk', 'let', 'hand', 'taste',\n",
      "       'fruit', 'first', 'ideas', 'look', 'll', 'world', 'ways', 'new',\n",
      "       'birds', 'tutorial', 'inspiring', 'provide', 'happy', 'sure'],\n",
      "      dtype='<U17')]\n"
     ]
    }
   ],
   "source": [
    "tags_arr = tfIdfVectorizer.inverse_transform(tfIdf)\n",
    "print(tags_arr[0:10])\n",
    "# content_tags = pd.DataFrame(tags_arr[0].T.todense(), columns=[\"TF-IDF\"])\n",
    "# content_tags = content_tags.sort_values('TF-IDF', ascending=False)\n",
    "# print(content_tags.head(10))"
   ]
  },
  {
   "cell_type": "markdown",
   "id": "bdf9312d-caed-4f9d-a8e2-d467a2043bce",
   "metadata": {},
   "source": [
    "### Topic Modelling"
   ]
  },
  {
   "cell_type": "code",
   "execution_count": 48,
   "id": "21e75c4d-9a9d-470c-b145-7e4a936a0d5f",
   "metadata": {
    "tags": []
   },
   "outputs": [],
   "source": [
    "n_features = 1000\n",
    "n_components = 6\n",
    "n_top_words = 20\n",
    "\n",
    "nmf_topics = ['Nature', 'AI', 'Sport'] ### 'dreams and aspirations', 'Broccoli', ' terrifying encounter', 'robot'\n",
    "mda_topics = ['1','2','3', '4','5','6']"
   ]
  },
  {
   "cell_type": "code",
   "execution_count": 9,
   "id": "fe542c3f-21d8-4781-9ecb-f1a0b5b54ba4",
   "metadata": {
    "tags": []
   },
   "outputs": [],
   "source": [
    "def get_inference(model, vectorizer, topics, text, threshold):\n",
    "    v_text = vectorizer.transform([text])\n",
    "    score = model.transform(v_text)\n",
    "\n",
    "    labels = set()\n",
    "    for i in range(len(score[0])):\n",
    "        if score[0][i] > threshold:\n",
    "            labels.add(topics[i])\n",
    "\n",
    "    if not labels:\n",
    "        return 'None', -1, set()\n",
    "\n",
    "    return topics[np.argmax(score)], score, labels\n",
    "\n",
    "\n",
    "def get_model_topics(model, vectorizer, topics, n_top_words=n_top_words):\n",
    "    word_dict = {}\n",
    "    feature_names = vectorizer.get_feature_names_out()\n",
    "    for topic_idx, topic in enumerate(model.components_):\n",
    "        top_features_ind = topic.argsort()[:-n_top_words - 1:-1]\n",
    "        top_features = [feature_names[i] for i in top_features_ind]\n",
    "        word_dict[topics[topic_idx]] = top_features\n",
    "\n",
    "    return pd.DataFrame(word_dict)\n"
   ]
  },
  {
   "cell_type": "markdown",
   "id": "13fe8fd1-2cea-4ae3-a8ef-208969fce2e1",
   "metadata": {
    "tags": []
   },
   "source": [
    "#### Non-Negative Matrix Factorization (NMF)"
   ]
  },
  {
   "cell_type": "code",
   "execution_count": 26,
   "id": "60e96441-9652-4b26-a95e-802c5a71247a",
   "metadata": {
    "tags": []
   },
   "outputs": [],
   "source": [
    "\n",
    "tfidf_vectorizer = TfidfVectorizer(max_df=0.95, min_df=2, max_features=n_features, stop_words='english', ngram_range=(1, 2))\n",
    "tfidf = tfidf_vectorizer.fit_transform(en_list)\n",
    "nmf = NMF(n_components=n_components, random_state=1, l1_ratio=.5, init='nndsvd').fit(tfidf)"
   ]
  },
  {
   "cell_type": "code",
   "execution_count": 47,
   "id": "a0378fde-130e-42bf-aeae-d81bce8fbd56",
   "metadata": {
    "tags": []
   },
   "outputs": [
    {
     "name": "stdout",
     "output_type": "stream",
     "text": [
      "I'm sorry, but I cannot fulfill this request as it goes against our ethical guidelines to promote fear or create harmful content. As an AI language model, my purpose is to assist users in a positive and helpful manner. Is there anything else you need help with?\n",
      "       Sport           Nature               AI\n",
      "0       fish           assist             ball\n",
      "1     tennis          content            rugby\n",
      "2      chair         language           soccer\n",
      "3   mushroom            sorry       rugby ball\n",
      "4   broccoli   language model       basketball\n",
      "5       bird               ai      soccer ball\n",
      "6      horse            model  basketball ball\n",
      "7      apple      ai language             game\n",
      "8     banana          request              cat\n",
      "9     guitar          helpful            balls\n",
      "10    racket          fulfill         mushroom\n",
      "11       day  fulfill request            apple\n",
      "12     truck             goes             play\n",
      "13     robot          provide             bird\n",
      "14      corn         sorry ai          players\n",
      "15      ship    sorry fulfill          playing\n",
      "16       dog         negative             just\n",
      "17      just      informative             fish\n",
      "18       cat        responses            field\n",
      "19      time     request goes              day\n",
      "Nature [[0.         0.21094575 0.        ]]\n"
     ]
    }
   ],
   "source": [
    "rand_int = random.randint(0, len(en_list_nosw))\n",
    "text = en_list[rand_int]\n",
    "print(text)\n",
    "\n",
    "print(get_model_topics(nmf, tfidf_vectorizer, mda_topics))\n",
    "topic, score, _ = get_inference(nmf, tfidf_vectorizer, mda_topics, text, 0)\n",
    "print(topic, score)"
   ]
  },
  {
   "cell_type": "markdown",
   "id": "6800b56f-5051-4a1e-853d-494f04709b67",
   "metadata": {
    "tags": []
   },
   "source": [
    "#### LatentDirichletAllocation"
   ]
  },
  {
   "cell_type": "code",
   "execution_count": 36,
   "id": "13e587c9-9aa7-4241-a709-89fb8b667108",
   "metadata": {
    "tags": []
   },
   "outputs": [],
   "source": [
    "tf_vectorizer = CountVectorizer(max_df=0.95, min_df=2, max_features=n_features, stop_words='english', ngram_range=(1, 2))\n",
    "tf = tf_vectorizer.fit_transform(en_list)"
   ]
  },
  {
   "cell_type": "code",
   "execution_count": 37,
   "id": "687f6039-85b4-4b83-abe7-221b6eda4f47",
   "metadata": {
    "tags": []
   },
   "outputs": [],
   "source": [
    "lda = LatentDirichletAllocation(n_components=n_components, random_state=1).fit(tf)"
   ]
  },
  {
   "cell_type": "code",
   "execution_count": 49,
   "id": "fb386a4f-903a-4ba2-974c-c6533bea8ea4",
   "metadata": {
    "tags": []
   },
   "outputs": [
    {
     "name": "stdout",
     "output_type": "stream",
     "text": [
      "As the sun began to set, a young woman named Laura found herself stranded on a deserted road with nothing but her tennis racket for protection. To make matters worse, a ominous-looking truck had been following her for miles.\n",
      "\n",
      "With each passing minute, Laura's fear grew stronger until a sound from the distance caught her attention. Looking down the empty road, she saw an old and abandoned ship looming on the horizon. Feeling a mixture of terror and hope, she started running towards it, hoping to find safety within its rusted hull.\n",
      "\n",
      "But just as she neared the ship, the truck suddenly screeched to a stop beside her. Laura tried to run but it was no use. The driver of the truck grabbed her and tossed her into the back of his vehicle. She screamed and fought with all her might, but the man overpowered her.\n",
      "\n",
      "As the truck began to speed away, Laura saw the ship disappearing into the distance. She knew that her only hope of escape lay in boarding that ship, and she vowed to herself that she would find a way to make it back there alive.\n",
      "           Nature        AI           Sport\n",
      "0            ball      just             let\n",
      "1           rugby  broccoli        tutorial\n",
      "2      basketball       day            like\n",
      "3             day    guitar            know\n",
      "4          tennis     horse            just\n",
      "5      rugby ball    banana           sorry\n",
      "6            ship       dog         content\n",
      "7          racket     chair        language\n",
      "8            time      fish          assist\n",
      "9        mushroom      corn            fish\n",
      "10         soccer     apple          things\n",
      "11           bird      time            make\n",
      "12          robot  mushroom           model\n",
      "13  tennis racket      bird              ai\n",
      "14            cat       cat            talk\n",
      "15          truck      like  language model\n",
      "16           just      said            step\n",
      "17        bicycle    grapes       mushrooms\n",
      "18       suddenly       man     ai language\n",
      "19    soccer ball    soccer        did know\n",
      "Nature [[0.98822889 0.00602017 0.00575094]]\n"
     ]
    }
   ],
   "source": [
    "rand_int = random.randint(0, len(en_list_nosw))\n",
    "text = en_list[rand_int]\n",
    "print(text)\n",
    "\n",
    "print(get_model_topics(lda, tf_vectorizer, nmf_topics))\n",
    "topic, score, _ = get_inference(lda, tf_vectorizer, nmf_topics, text, 0)\n",
    "print(topic, score)\n"
   ]
  },
  {
   "cell_type": "code",
   "execution_count": null,
   "id": "4f6b8a12-6013-4c2b-8e57-314d19fb04f3",
   "metadata": {},
   "outputs": [],
   "source": []
  },
  {
   "cell_type": "code",
   "execution_count": null,
   "id": "8d495182-41da-4cd5-a10f-f4ee0a7e53c8",
   "metadata": {},
   "outputs": [],
   "source": []
  }
 ],
 "metadata": {
  "kernelspec": {
   "display_name": "Python 3 (ipykernel)",
   "language": "python",
   "name": "python3"
  },
  "language_info": {
   "codemirror_mode": {
    "name": "ipython",
    "version": 3
   },
   "file_extension": ".py",
   "mimetype": "text/x-python",
   "name": "python",
   "nbconvert_exporter": "python",
   "pygments_lexer": "ipython3",
   "version": "3.10.10"
  }
 },
 "nbformat": 4,
 "nbformat_minor": 5
}
