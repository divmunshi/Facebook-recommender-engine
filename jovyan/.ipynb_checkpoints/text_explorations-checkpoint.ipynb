{
 "cells": [
  {
   "cell_type": "markdown",
   "id": "3edb92e5-057a-495e-a4ad-e31b6e784358",
   "metadata": {},
   "source": [
    "# File for looking at text content"
   ]
  },
  {
   "cell_type": "markdown",
   "id": "db087679-711d-4a8c-8549-9dd2748f81a2",
   "metadata": {
    "tags": []
   },
   "source": [
    "## Import Libraries:"
   ]
  },
  {
   "cell_type": "code",
   "execution_count": 3,
   "id": "c89dd514-c864-4aab-a25b-3b8a5f244161",
   "metadata": {
    "tags": []
   },
   "outputs": [],
   "source": [
    "import sklearn as sk\n",
    "import re\n",
    "from sklearn.feature_extraction.text import TfidfVectorizer\n",
    "import numpy as np\n",
    "from text_content import data\n",
    "from stop_words import sw\n",
    "import pandas as pd"
   ]
  },
  {
   "cell_type": "code",
   "execution_count": 6,
   "id": "e0e17608-7623-41c8-8fa6-80ac045e764c",
   "metadata": {
    "tags": []
   },
   "outputs": [],
   "source": [
    "en_list = [item['content'] for item in data if item.get('lang') == 'en']\n"
   ]
  },
  {
   "cell_type": "code",
   "execution_count": 2,
   "id": "0ffe4caf-03c9-4f03-b3fe-d3336939a87b",
   "metadata": {
    "tags": []
   },
   "outputs": [
    {
     "name": "stdout",
     "output_type": "stream",
     "text": [
      "['those', 'on', 'own', '’ve', 'yourselves', 'around', 'between', 'four', 'been', 'alone', 'off', 'am', 'then', 'other', 'can', 'regarding', 'hereafter', 'front', 'too', 'used', 'wherein', '‘ll', 'doing', 'everything', 'up', 'onto', 'never', 'either', 'how', 'before', 'anyway', 'since', 'through', 'amount', 'now', 'he', 'was', 'have', 'into', 'because', 'not', 'therefore', 'they', 'n’t', 'even', 'whom', 'it', 'see', 'somewhere', 'thereupon', 'nothing', 'whereas', 'much', 'whenever', 'seem', 'until', 'whereby', 'at', 'also', 'some', 'last', 'than', 'get', 'already', 'our', 'once', 'will', 'noone', \"'m\", 'that', 'what', 'thus', 'no', 'myself', 'out', 'next', 'whatever', 'although', 'though', 'which', 'would', 'therein', 'nor', 'somehow', 'whereupon', 'besides', 'whoever', 'ourselves', 'few', 'did', 'without', 'third', 'anything', 'twelve', 'against', 'while', 'twenty', 'if', 'however', 'herself', 'when', 'may', 'ours', 'six', 'done', 'seems', 'else', 'call', 'perhaps', 'had', 'nevertheless', 'where', 'otherwise', 'still', 'within', 'its', 'for', 'together', 'elsewhere', 'throughout', 'of', 'others', 'show', '’s', 'anywhere', 'anyhow', 'as', 'are', 'the', 'hence', 'something', 'hereby', 'nowhere', 'latterly', 'say', 'does', 'neither', 'his', 'go', 'forty', 'put', 'their', 'by', 'namely', 'could', 'five', 'unless', 'itself', 'is', 'nine', 'whereafter', 'down', 'bottom', 'thereby', 'such', 'both', 'she', 'become', 'whole', 'who', 'yourself', 'every', 'thru', 'except', 'very', 'several', 'among', 'being', 'be', 'mine', 'further', 'n‘t', 'here', 'during', 'why', 'with', 'just', \"'s\", 'becomes', '’ll', 'about', 'a', 'using', 'seeming', \"'d\", \"'ll\", \"'re\", 'due', 'wherever', 'beforehand', 'fifty', 'becoming', 'might', 'amongst', 'my', 'empty', 'thence', 'thereafter', 'almost', 'least', 'someone', 'often', 'from', 'keep', 'him', 'or', '‘m', 'top', 'her', 'nobody', 'sometime', 'across', '‘s', '’re', 'hundred', 'only', 'via', 'name', 'eight', 'three', 'back', 'to', 'all', 'became', 'move', 'me', 'we', 'formerly', 'so', 'i', 'whence', 'under', 'always', 'himself', 'in', 'herein', 'more', 'after', 'themselves', 'you', 'above', 'sixty', 'them', 'your', 'made', 'indeed', 'most', 'everywhere', 'fifteen', 'but', 'must', 'along', 'beside', 'hers', 'side', 'former', 'anyone', 'full', 'has', 'yours', 'whose', 'behind', 'please', 'ten', 'seemed', 'sometimes', 'should', 'over', 'take', 'each', 'same', 'rather', 'really', 'latter', 'and', 'ca', 'hereupon', 'part', 'per', 'eleven', 'ever', '‘re', 'enough', \"n't\", 'again', '‘d', 'us', 'yet', 'moreover', 'mostly', 'one', 'meanwhile', 'whither', 'there', 'toward', '’m', \"'ve\", '’d', 'give', 'do', 'an', 'quite', 'these', 'everyone', 'towards', 'this', 'cannot', 'afterwards', 'beyond', 'make', 'were', 'whether', 'well', 'another', 'below', 'first', 'upon', 'any', 'none', 'many', 'serious', 'various', 're', 'two', 'less', '‘ve', 'youre']\n"
     ]
    }
   ],
   "source": [
    "print(sw)"
   ]
  },
  {
   "cell_type": "code",
   "execution_count": 4,
   "id": "ebd83442-5180-476f-a864-eca34e8b40c6",
   "metadata": {
    "tags": []
   },
   "outputs": [],
   "source": [
    "def remove_sw(text):\n",
    "    new_list = []\n",
    "    words = [word for word in re.split(r\" |'\", text) if word.lower() not in sw]\n",
    "    new_text = \" \".join(words)\n",
    "    return new_text\n",
    "    # new_list.append(new_text)"
   ]
  },
  {
   "cell_type": "code",
   "execution_count": 7,
   "id": "bef388e1-bd23-4954-9758-bab155ee0816",
   "metadata": {
    "tags": []
   },
   "outputs": [],
   "source": [
    "en_list_nosw = [remove_sw(item) for item in en_list]"
   ]
  },
  {
   "cell_type": "code",
   "execution_count": 8,
   "id": "24330a7b-fcca-4a10-bad5-da45e0a955bb",
   "metadata": {
    "tags": []
   },
   "outputs": [
    {
     "data": {
      "text/plain": [
       "'Hello there! Today, want inspire try amazing sports equipment, tennis racket, rugby ball, bicycle.\\n\\nFirst up, let s talk tennis racket. beauty sport played matter age, gender, skill level. hold tennis racket, holding tool s capable propelling small ball high speeds, making incredible exercise mind body. ll develop hand-eye coordination, footwork, mental fortitude required stay focused game.\\n\\nNext, rugby ball. Rugby sport s known requiring physical strength, speed, agility. ball oval shape, means bounces unpredictable ways, increasing level excitement difficulty. playing rugby, ll gain stronger sense teamwork, resilience, perseverance face adversity. doesn t love little adventure?\\n\\nLastly, let s discuss bicycle. Biking great exercise s good getting point B. pedaling away, getting full-body workout, improving cardiovascular health, strengthening muscles, reducing stress levels. Biking eco-friendly way explore surroundings appreciate beauty nature.\\n\\nSo, want try hand tennis, rugby, cycling, remember sports fun rewarding. ll help develop lifelong skills playing field. grab racket, ball, hop bicycle start adventure!'"
      ]
     },
     "execution_count": 8,
     "metadata": {},
     "output_type": "execute_result"
    }
   ],
   "source": [
    "en_list_nosw[0]"
   ]
  },
  {
   "cell_type": "code",
   "execution_count": 16,
   "id": "af2b96be-08b2-4ad3-9ed0-19e848bd2989",
   "metadata": {
    "tags": []
   },
   "outputs": [
    {
     "name": "stdout",
     "output_type": "stream",
     "text": [
      "                  TF-IDF\n",
      "rugby           0.218833\n",
      "racket          0.188326\n",
      "tennis          0.186556\n",
      "biking          0.177894\n",
      "develop         0.171853\n",
      "level           0.159811\n",
      "exercise        0.157250\n",
      "you             0.152812\n",
      "ball            0.151480\n",
      "bicycle         0.138250\n",
      "beauty          0.131218\n",
      "body            0.126952\n",
      "ll              0.126547\n",
      "sport           0.119736\n",
      "fortitude       0.119538\n",
      "gender          0.119538\n",
      "propelling      0.119538\n",
      "that            0.115326\n",
      "strengthening   0.113742\n",
      "cardiovascular  0.113742\n",
      "difficulty      0.113742\n",
      "sports          0.112405\n",
      "requiring       0.109630\n",
      "re              0.109480\n",
      "getting         0.108887\n",
      "hand            0.106995\n",
      "increasing      0.106440\n",
      "lifelong        0.103834\n",
      "adventure       0.102932\n",
      "want            0.102568\n",
      "age             0.099722\n",
      "reducing        0.098038\n",
      "improving       0.098038\n",
      "full            0.096532\n",
      "adversity       0.095170\n",
      "gain            0.093926\n",
      "required        0.092782\n",
      "speeds          0.092782\n",
      "muscles         0.091722\n",
      "eco             0.090736\n",
      "discuss         0.090736\n",
      "levels          0.089814\n",
      "workout         0.089814\n",
      "try             0.089222\n",
      "coordination    0.088130\n",
      "mental          0.087357\n",
      "footwork        0.086624\n",
      "bounces         0.085927\n",
      "rewarding       0.084626\n",
      "stress          0.084018\n"
     ]
    }
   ],
   "source": [
    "tfIdfVectorizer=TfidfVectorizer(use_idf=True)\n",
    "tfIdf = tfIdfVectorizer.fit_transform(en_list_nosw)\n",
    "df = pd.DataFrame(tfIdf[0].T.todense(), index=tfIdfVectorizer.get_feature_names_out(), columns=[\"TF-IDF\"])\n",
    "df = df.sort_values('TF-IDF', ascending=False)\n",
    "print (df.head(50))"
   ]
  },
  {
   "cell_type": "code",
   "execution_count": null,
   "id": "34a8b452-7950-4f02-b463-fab5f9663d2f",
   "metadata": {},
   "outputs": [],
   "source": []
  }
 ],
 "metadata": {
  "kernelspec": {
   "display_name": "Python 3 (ipykernel)",
   "language": "python",
   "name": "python3"
  },
  "language_info": {
   "codemirror_mode": {
    "name": "ipython",
    "version": 3
   },
   "file_extension": ".py",
   "mimetype": "text/x-python",
   "name": "python",
   "nbconvert_exporter": "python",
   "pygments_lexer": "ipython3",
   "version": "3.10.10"
  }
 },
 "nbformat": 4,
 "nbformat_minor": 5
}
