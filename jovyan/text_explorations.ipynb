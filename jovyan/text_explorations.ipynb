{
 "cells": [
  {
   "cell_type": "markdown",
   "id": "3edb92e5-057a-495e-a4ad-e31b6e784358",
   "metadata": {},
   "source": [
    "# File for looking at text content"
   ]
  },
  {
   "cell_type": "markdown",
   "id": "db087679-711d-4a8c-8549-9dd2748f81a2",
   "metadata": {
    "tags": []
   },
   "source": [
    "## Import Libraries:"
   ]
  },
  {
   "cell_type": "code",
   "execution_count": 23,
   "id": "c89dd514-c864-4aab-a25b-3b8a5f244161",
   "metadata": {
    "tags": []
   },
   "outputs": [],
   "source": [
    "import sklearn as sk\n",
    "import re\n",
    "from sklearn.feature_extraction.text import TfidfVectorizer, CountVectorizer\n",
    "from sklearn.decomposition import NMF, LatentDirichletAllocation, TruncatedSVD\n",
    "import numpy as np\n",
    "from text_content import data\n",
    "from stop_words import sw_en\n",
    "import pandas as pd"
   ]
  },
  {
   "cell_type": "markdown",
   "id": "00b82aef-892e-4fcd-a66e-8fa825c94d3d",
   "metadata": {
    "tags": []
   },
   "source": [
    "### Get English Content"
   ]
  },
  {
   "cell_type": "code",
   "execution_count": 2,
   "id": "e0e17608-7623-41c8-8fa6-80ac045e764c",
   "metadata": {
    "tags": []
   },
   "outputs": [],
   "source": [
    "en_list = [item['content'] for item in data if item.get('lang') == 'en']"
   ]
  },
  {
   "cell_type": "markdown",
   "id": "fea39976-4e77-491e-9825-8ff445e09a33",
   "metadata": {
    "tags": []
   },
   "source": [
    "### Remove Stop Words"
   ]
  },
  {
   "cell_type": "code",
   "execution_count": 3,
   "id": "ebd83442-5180-476f-a864-eca34e8b40c6",
   "metadata": {
    "tags": []
   },
   "outputs": [],
   "source": [
    "def remove_sw(text):\n",
    "    new_list = []\n",
    "    words = [word for word in re.split(r\" |'\", text) if word.lower() not in sw_en]\n",
    "    new_text = \" \".join(words)\n",
    "    return new_text\n",
    "    # new_list.append(new_text)"
   ]
  },
  {
   "cell_type": "code",
   "execution_count": 4,
   "id": "bef388e1-bd23-4954-9758-bab155ee0816",
   "metadata": {
    "tags": []
   },
   "outputs": [],
   "source": [
    "en_list_nosw = [remove_sw(item) for item in en_list]"
   ]
  },
  {
   "cell_type": "code",
   "execution_count": 10,
   "id": "24330a7b-fcca-4a10-bad5-da45e0a955bb",
   "metadata": {
    "tags": []
   },
   "outputs": [
    {
     "name": "stdout",
     "output_type": "stream",
     "text": [
      "The list in english has 3151 entries \n",
      "\n",
      "Hello welcome hilariously informative tutorial airplane, bird, corn. rules simple: going discuss things twist goofy humor, buckle ready soar jokes!\n",
      "\n",
      "First up, airplane. hear pilot told co-pilot joke mid-flight? went head. like airplane itself! Hey, don t blame me, blame laws physics.\n",
      "\n",
      "Now, bird. bird join Twitter? tweet, course! Ha, it? Alright, alright, ll fly away one. seriously, birds cool. fly, sing, wake morning.\n",
      "\n",
      "Finally, corn. don t know you, think corn pretty a-maize-ing. there? Okay, okay, ll out. seriously, corn versatile delicious food. eat cob off, s favorite snacks like popcorn tortilla chips.\n",
      "\n",
      "So it, folks: quick quirky tutorial airplanes, birds, corn. hope fun reading writing it. aviation, ornithology, agricultural jokes sure friends roll (corn) eyes!\n"
     ]
    }
   ],
   "source": [
    "print(f\"The list in english has {len(en_list_nosw)} entries \\n\" )\n",
    "print(en_list_nosw[3000])"
   ]
  },
  {
   "cell_type": "markdown",
   "id": "c3ddb198-9229-4ac7-ac91-29032a025023",
   "metadata": {
    "tags": []
   },
   "source": [
    "### Apply TF ID"
   ]
  },
  {
   "cell_type": "code",
   "execution_count": 13,
   "id": "af2b96be-08b2-4ad3-9ed0-19e848bd2989",
   "metadata": {
    "tags": []
   },
   "outputs": [
    {
     "name": "stdout",
     "output_type": "stream",
     "text": [
      "           TF-IDF\n",
      "rugby    0.224572\n",
      "racket   0.193265\n",
      "tennis   0.191449\n",
      "biking   0.182560\n",
      "develop  0.176360\n",
      "...           ...\n",
      "today    0.055341\n",
      "next     0.053261\n",
      "skills   0.053197\n",
      "high     0.052383\n",
      "love     0.051729\n",
      "\n",
      "[100 rows x 1 columns]\n",
      "             TF-IDF\n",
      "rugby      0.224572\n",
      "racket     0.193265\n",
      "tennis     0.191449\n",
      "biking     0.182560\n",
      "develop    0.176360\n",
      "...             ...\n",
      "fishball   0.000000\n",
      "fishbowl   0.000000\n",
      "fished     0.000000\n",
      "fisherman  0.000000\n",
      "يمكنني     0.000000\n",
      "\n",
      "[13006 rows x 1 columns]\n"
     ]
    }
   ],
   "source": [
    "tfIdfVectorizer=TfidfVectorizer(use_idf=True)\n",
    "tfIdf = tfIdfVectorizer.fit_transform(en_list_nosw)\n",
    "\n",
    "df = pd.DataFrame(tfIdf[0].T.todense(), index=tfIdfVectorizer.get_feature_names_out(), columns=[\"TF-IDF\"])\n",
    "df = df.sort_values('TF-IDF', ascending=False)\n",
    "print (df.head(100))\n"
   ]
  },
  {
   "cell_type": "code",
   "execution_count": 24,
   "id": "34a8b452-7950-4f02-b463-fab5f9663d2f",
   "metadata": {
    "tags": []
   },
   "outputs": [
    {
     "name": "stdout",
     "output_type": "stream",
     "text": [
      "[array(['start', 'hop', 'grab', 'field', 'skills', 'lifelong', 'help',\n",
      "       'rewarding', 'fun', 'remember', 'cycling', 'so', 'nature',\n",
      "       'appreciate', 'surroundings', 'explore', 'way', 'friendly', 'eco',\n",
      "       'levels', 'stress', 'reducing', 'muscles', 'strengthening',\n",
      "       'health', 'cardiovascular', 'improving', 'workout', 'full', 'away',\n",
      "       'pedaling', 'point', 'getting', 'good', 'great', 'biking',\n",
      "       'discuss', 'lastly', 'adventure', 'little', 'love', 'doesn',\n",
      "       'adversity', 'face', 'perseverance', 'resilience', 'teamwork',\n",
      "       'sense', 'stronger', 'gain', 'playing', 'difficulty', 'excitement',\n",
      "       'increasing', 'ways', 'unpredictable', 'bounces', 'means', 'shape',\n",
      "       'oval', 'agility', 'speed', 'strength', 'physical', 'requiring',\n",
      "       'known', 'next', 'game', 'focused', 'stay', 'required',\n",
      "       'fortitude', 'mental', 'footwork', 'coordination', 'eye', 'hand',\n",
      "       'develop', 'll', 'body', 'mind', 'exercise', 'incredible',\n",
      "       'making', 'speeds', 'high', 'small', 'propelling', 'capable',\n",
      "       'tool', 'holding', 'hold', 'level', 'skill', 'gender', 'age',\n",
      "       'matter', 'played', 'sport', 'beauty', 'talk', 'let', 'up',\n",
      "       'first', 'bicycle', 'ball', 'rugby', 'racket', 'tennis',\n",
      "       'equipment', 'sports', 'amazing', 'try', 'inspire', 'want',\n",
      "       'today', 'there', 'hello'], dtype='<U17'), array(['humor', 'bit', 'thanks', 'place', 'found', 'team', 'star',\n",
      "       'forward', 'from', 'with', 'play', 'gave', 'exploring', 'live',\n",
      "       'trying', 'guilty', 'feel', 'started', 'while', 'after', 'player',\n",
      "       'skilled', 'proved', 'amazement', 'watched', 'spins', 'flips',\n",
      "       'fins', 'forth', 'kicked', 'life', 'having', 'before', 'seen',\n",
      "       'stunned', 'afloat', 'device', 'flotation', 'tight', 'held',\n",
      "       'grabbed', 'do', 'exactly', 'knew', 'confused', 'the', 'deck',\n",
      "       'balls', 'soccer', 'pile', 'bounced', 'dodged', 'fast', 'net',\n",
      "       'catch', 'tried', 'letting', 'intention', 'fishermen', 'mistake',\n",
      "       'big', 'realized', 'soon', 'however', 'finally', 'excited',\n",
      "       'board', 'decided', 'passing', 'ship', 'saw', 'day', 'water',\n",
      "       'outside', 'world', 'dream', 'ocean', 'lived', 'jack', 'named',\n",
      "       'fish', 'time', 'hop', 'so', 'explore', 'little', 'playing',\n",
      "       'stay', 'let', 'ball'], dtype='<U17'), array(['individuals', 'strong', 'grow', 'responsibly', 'working', 'lives',\n",
      "       'apply', 'important', 'holds', 'uses', 'qualities', 'different',\n",
      "       'conclusion', 'in', 'others', 'consideration', 'care', 'better',\n",
      "       'use', 'abilities', 'talents', 'responsibility', 'comes', 'power',\n",
      "       'reminds', 'properly', 'handled', 'dangerous', 'transportation',\n",
      "       'loads', 'heavy', 'haul', 'machine', 'powerful', 'decisions',\n",
      "       'evaluate', 'carefully', 'cautious', 'need', 'seems', 'teaches',\n",
      "       'consumed', 'harm', 'cause', 'poisonous', 'cooking', 'medicine',\n",
      "       'properties', 'unique', 'sizes', 'shapes', 'mushrooms', 'now',\n",
      "       'victorious', 'come', 'head', 'attitude', 'positive', 'but',\n",
      "       'handle', 'impossible', 'challenges', 'unexpected', 'pressure',\n",
      "       'maneuver', 'learn', 'players', 'determination', 'practice',\n",
      "       'control', 'difficult', 'makes', 'shaped', 'dedication', 'work',\n",
      "       'hard', 'focus', 'extreme', 'requires', 'tough', 'lessons',\n",
      "       'valuable', 'teach', 'common', 'thing', 'things', 'unrelated',\n",
      "       'like', 'truck', 'mushroom', 'place', 'life', 'however', 'world',\n",
      "       'start', 'great', 'discuss', 'lastly', 'face', 'perseverance',\n",
      "       'unpredictable', 'oval', 'physical', 'making', 'capable', 'sport',\n",
      "       'talk', 'let', 'first', 'ball', 'rugby'], dtype='<U17'), array(['ideas', 'know', 'neutral', 'prompt', 'finding', 'suggest',\n",
      "       'instead', 'uncomfortable', 'scared', 'users', 'don', 'assistant',\n",
      "       'helpful', 'different', 'positive', 'feel', 'let', 'want'],\n",
      "      dtype='<U17'), array(['same', 'achieve', 'be', 'resources', 'limited', 'story', 'moral',\n",
      "       'sills', 'window', 'balconies', 'spaces', 'gardens', 'friends',\n",
      "       'neighbors', 'knowledge', 'sharing', 'grew', 'thrive', 'needed',\n",
      "       'sunlight', 'soil', 'right', 'plants', 'types', 'learned',\n",
      "       'researched', 'didn', 'at', 'gardening', 'backyard', 'garden',\n",
      "       'created', 'think', 'began', 'he', 'discovery', 'exciting',\n",
      "       'inspired', 'amazed', 'bigger', 'ears', 'taller', 'stalks',\n",
      "       'noticed', 'closer', 'looked', 'as', 'corn', 'stumbled', 'new',\n",
      "       'learning', 'loved', 'robby', 'robot', 'grow', 'different',\n",
      "       'others', 'use', 'abilities', 'head', 'determination',\n",
      "       'dedication', 'work', 'hard', 'tough', 'things', 'like', 'with',\n",
      "       'exploring', 'started', 'the', 'soon', 'day', 'water', 'world',\n",
      "       'named', 'time', 'start', 'field', 'help', 'so', 'explore',\n",
      "       'great', 'little', 'love', 'small', 'matter', 'up', 'first',\n",
      "       'inspire'], dtype='<U17'), array(['greatness', 'lead', 'luck', 'bad', 'says', 'accident', 'simple',\n",
      "       'and', 'racquets', 'line', 'deals', 'sponsorship', 'got',\n",
      "       'championships', 'winning', 'traveling', 'pro', 'it',\n",
      "       'tournaments', 'local', 'practicing', 'kept', 'terrible', 'court',\n",
      "       'took', 'buy', 'sight', 'spotted', 'aisles', 'browsing', 'store',\n",
      "       'rest', 'walking', 'dejected', 'repair', 'damaged', 'okay',\n",
      "       'fence', 'nearby', 'crashed', 'bike', 'lost', 'avoid', 'swerved',\n",
      "       'him', 'barreling', 'came', 'nowhere', 'suddenly', 'road',\n",
      "       'pedaled', 'feeling', 'beautiful', 'gas', 'money', 'save',\n",
      "       'wanted', 'ride', 'tom', 'man', 'one', 'you', 'humorous', 'short',\n",
      "       'story', 'noticed', 'in', 'control', 'work', 'truck', 'started',\n",
      "       'before', 'knew', 'big', 'soon', 'decided', 'day', 'world',\n",
      "       'named', 'time', 'way', 'good', 'great', 'love', 'playing',\n",
      "       'exercise', 'bicycle', 'racket', 'tennis', 'sports'], dtype='<U17'), array(['fur', 'flavor', 'wash', 'milk', 'find', 'told', 'smirks',\n",
      "       'listened', 'guess', 'thank', 'looks', 'breath', 'catches',\n",
      "       'mouth', 'pops', 'paw', 'whacking', 'action', 'jumps', 'panicking',\n",
      "       'throat', 'lodged', 'air', 'gasping', 'choking', 'bite', 'juicy',\n",
      "       'picks', 'paws', 'matters', 'decides', 'afraid', 'scaredy', 'oh',\n",
      "       'teasing', 'resist', 'nervously', 'eyeing', 'felines', 'apples',\n",
      "       'heard', 'convinced', 'easily', 'isn', 'silly', 'goes', 'saying',\n",
      "       'that', 'laughing', 'bursts', 'vet', 'keeps', 'replies', 'asks',\n",
      "       'why', 'fear', 'tremble', 'starts', 'choke', 'careful', 'wow',\n",
      "       'look', 'takes', 'apple', 'shiny', 'orchard', 'wandering', 'dog',\n",
      "       'cat', 'luck', 'bad', 'says', 'it', 'suddenly', 'you', 'stumbled',\n",
      "       'know', 'scared', 'don', 'better', 'now', 'come', 'but', 'feel',\n",
      "       'the', 'big', 'finally', 'day', 'so', 'away', 'hand', 'let'],\n",
      "      dtype='<U17'), array(['forever', 'seas', 'haunting', 'echoes', 'hear', 'happened',\n",
      "       'knows', 'beach', 'scattered', 'debris', 'survivors', 'signs',\n",
      "       'searched', 'wildly', 'spinning', 'wheels', 'shore', 'washed',\n",
      "       'lone', 'resting', 'vanished', 'themselves', 'scrambled',\n",
      "       'flooding', 'reef', 'hidden', 'hit', 'splintering', 'sound',\n",
      "       'followed', 'hull', 'crash', 'loud', 'later', 'hours', 'beginning',\n",
      "       'nightmare', 'doomed', 'sign', 'omen', 'screamed', 'mist', 'waves',\n",
      "       'bouncing', 'edge', 'tumbled', 'horror', 'force', 'unseen',\n",
      "       'propelled', 'steadily', 'rolling', 'coast', 'rocky', 'neared',\n",
      "       'dark', 'disappearing', 'corridors', 'flitting', 'figure',\n",
      "       'shadowy', 'seeing', 'reported', 'sailor', 'night', 'permeated',\n",
      "       'wood', 'rotting', 'smell', 'bowels', 'echoed', 'noises',\n",
      "       'strange', 'unease', 'growing', 'felt', 'onboard', 'wind',\n",
      "       'relentless', 'pushed', 'waters', 'treacherous', 'sailed', 'weeks',\n",
      "       'turned', 'days', 'island', 'deserted', 'crew', 'wild', 'joked',\n",
      "       'object', 'cursed', 'whispered', 'aboard', 'brought', 'remembered',\n",
      "       'bouncy', 'betrayed', 'deflated', 'sand', 'salt', 'caked',\n",
      "       'corner', 'abandoned', 'lay', 'air', 'look', 'bad', 'it',\n",
      "       'spotted', 'lost', 'save', 'noticed', 'as', 'come', 'but', 'place',\n",
      "       'found', 'forward', 'from', 'watched', 'deck', 'catch', 'realized',\n",
      "       'passing', 'ship', 'water', 'nature', 'sense', 'game', 'hold',\n",
      "       'played', 'bicycle', 'ball', 'rugby'], dtype='<U17'), array(['comedies', 'sad', 'including', 'content', 'offensive',\n",
      "       'inappropriate', 'generate', 'sorry', 'humorous', 'with', 'help'],\n",
      "      dtype='<U17'), array(['assist', 'emotions', 'negative', 'evoke', 'intended', 'produce',\n",
      "       'appropriate', 'informative', 'assistance', 'provide', 'purpose',\n",
      "       'model', 'language', 'ai', 'request', 'fulfill', 'content',\n",
      "       'sorry', 'you', 'helpful', 'positive', 'way'], dtype='<U17')]\n"
     ]
    }
   ],
   "source": [
    "tags_arr = tfIdfVectorizer.inverse_transform(tfIdf)\n",
    "print(tags_arr[0:10])\n",
    "# content_tags = pd.DataFrame(tags_arr[0].T.todense(), columns=[\"TF-IDF\"])\n",
    "# content_tags = content_tags.sort_values('TF-IDF', ascending=False)\n",
    "# print(content_tags.head(10))"
   ]
  },
  {
   "cell_type": "markdown",
   "id": "bdf9312d-caed-4f9d-a8e2-d467a2043bce",
   "metadata": {},
   "source": [
    "### Topic Modelling"
   ]
  },
  {
   "cell_type": "code",
   "execution_count": null,
   "id": "60e96441-9652-4b26-a95e-802c5a71247a",
   "metadata": {},
   "outputs": [],
   "source": [
    "n_features = 1000\n",
    "n_components = 5\n",
    "n_top_words = 20\n",
    "\n",
    "tf_vectorizer = CountVectorizer(max_df=0.95, min_df=2, max_features=n_features, stop_words='english', ngram_range=(1, 2))\n",
    "tf = tf_vectorizer.fit_transform(corpus)"
   ]
  }
 ],
 "metadata": {
  "kernelspec": {
   "display_name": "Python 3 (ipykernel)",
   "language": "python",
   "name": "python3"
  },
  "language_info": {
   "codemirror_mode": {
    "name": "ipython",
    "version": 3
   },
   "file_extension": ".py",
   "mimetype": "text/x-python",
   "name": "python",
   "nbconvert_exporter": "python",
   "pygments_lexer": "ipython3",
   "version": "3.10.10"
  }
 },
 "nbformat": 4,
 "nbformat_minor": 5
}
