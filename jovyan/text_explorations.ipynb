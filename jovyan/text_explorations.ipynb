{
 "cells": [
  {
   "cell_type": "markdown",
   "id": "3edb92e5-057a-495e-a4ad-e31b6e784358",
   "metadata": {},
   "source": [
    "# File for looking at text content"
   ]
  },
  {
   "cell_type": "markdown",
   "id": "db087679-711d-4a8c-8549-9dd2748f81a2",
   "metadata": {
    "tags": []
   },
   "source": [
    "## Import Libraries:"
   ]
  },
  {
   "cell_type": "code",
   "execution_count": 5,
   "id": "c89dd514-c864-4aab-a25b-3b8a5f244161",
   "metadata": {
    "tags": []
   },
   "outputs": [],
   "source": [
    "import sklearn as sk\n",
    "from sklearn.feature_extraction.text import TfidfTransformer\n",
    "import numpy as np\n",
    "from text_content import data"
   ]
  },
  {
   "cell_type": "code",
   "execution_count": 9,
   "id": "e0e17608-7623-41c8-8fa6-80ac045e764c",
   "metadata": {},
   "outputs": [
    {
     "name": "stdout",
     "output_type": "stream",
     "text": [
      "{'item_key': '000dd37d-a759-496a-97a5-11e9f2eddd6c', 'lang': 'en', 'content': \"Hello there! Today, I want to inspire you to try some amazing sports equipment, namely a tennis racket, a rugby ball, and a bicycle.\\n\\nFirst up, let's talk about the tennis racket. The beauty of this sport is that it can be played no matter your age, gender, or skill level. When you hold a tennis racket, you're holding a tool that's capable of propelling a small ball at high speeds, making it incredible exercise for your mind and body. You'll develop hand-eye coordination, footwork, and the mental fortitude required to stay focused throughout a game.\\n\\nNext, we have the rugby ball. Rugby is a sport that's known for requiring physical strength, speed, and agility. The ball is oval in shape, which means it bounces in unpredictable ways, increasing the level of excitement and difficulty. By playing rugby, you'll gain a stronger sense of teamwork, resilience, and perseverance in the face of adversity. And who doesn't love a little adventure?\\n\\nLastly, let's discuss the bicycle. Biking is a great exercise that's good for more than just getting from point A to B. When you're pedaling away, you're getting a full-body workout, improving your cardiovascular health, strengthening your muscles, and reducing your stress levels. Biking is also an eco-friendly way to explore your surroundings and appreciate the beauty of nature.\\n\\nSo, whether you want to try your hand at tennis, rugby, or cycling, remember that these sports are not only fun but also rewarding. They'll help you develop lifelong skills that go beyond the playing field. So grab a racket, ball, or hop on a bicycle and start your adventure!\"}\n"
     ]
    }
   ],
   "source": [
    "en_data = data[0]\n",
    "print(en_data)"
   ]
  },
  {
   "cell_type": "code",
   "execution_count": null,
   "id": "af2b96be-08b2-4ad3-9ed0-19e848bd2989",
   "metadata": {},
   "outputs": [],
   "source": [
    "sorted(people.items(), key=lambda item: item[1])"
   ]
  }
 ],
 "metadata": {
  "kernelspec": {
   "display_name": "Python 3 (ipykernel)",
   "language": "python",
   "name": "python3"
  },
  "language_info": {
   "codemirror_mode": {
    "name": "ipython",
    "version": 3
   },
   "file_extension": ".py",
   "mimetype": "text/x-python",
   "name": "python",
   "nbconvert_exporter": "python",
   "pygments_lexer": "ipython3",
   "version": "3.10.10"
  }
 },
 "nbformat": 4,
 "nbformat_minor": 5
}
